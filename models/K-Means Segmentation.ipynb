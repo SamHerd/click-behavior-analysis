{
 "cells": [
  {
   "cell_type": "code",
   "execution_count": 2,
   "id": "1828dca3-0aa6-49f0-98c7-697ba5b40bf8",
   "metadata": {},
   "outputs": [
    {
     "name": "stdout",
     "output_type": "stream",
     "text": [
      "✅ Updated dataset saved as: C:\\Users\\samhe\\OneDrive\\Documents\\AI Project 3 - Customer Behavior\\click_behavior_analysis_kmeans.csv\n",
      "click_efficiency\n",
      "Low       45658\n",
      "Medium    39530\n",
      "High      14812\n",
      "Name: count, dtype: int64\n"
     ]
    }
   ],
   "source": [
    "import pandas as pd\n",
    "import numpy as np\n",
    "from sklearn.cluster import KMeans\n",
    "import os\n",
    "\n",
    "# Step 1: Load the Dataset\n",
    "file_path = r\"C:\\Users\\samhe\\OneDrive\\Documents\\AI Project 3 - Customer Behavior\\click_behavior_analysis.csv\"  \n",
    "df = pd.read_csv(file_path)\n",
    "\n",
    "# Convert transaction_date to datetime format (if needed)\n",
    "df[\"transaction_date\"] = pd.to_datetime(df[\"transaction_date\"], errors='coerce')\n",
    "\n",
    "# Step 2: Remove the Existing Click Efficiency Column (if it exists)\n",
    "if \"click_efficiency\" in df.columns:\n",
    "    df.drop(columns=[\"click_efficiency\"], inplace=True)\n",
    "\n",
    "# Step 3: Prepare Data for Clustering (Extract Click-to-Purchase Ratio)\n",
    "click_purchase_ratio_values = df[[\"click_to_purchase_ratio\"]].values\n",
    "\n",
    "# Step 4: Apply K-Means Clustering (3 Clusters for Low, Medium, High)\n",
    "kmeans = KMeans(n_clusters=3, random_state=42, n_init=10)\n",
    "df[\"click_efficiency_cluster\"] = kmeans.fit_predict(click_purchase_ratio_values)\n",
    "\n",
    "# Step 5: Assign Meaningful Labels (Low, Medium, High)\n",
    "# Sorting clusters based on the mean Click-to-Purchase Ratio\n",
    "cluster_order = np.argsort(kmeans.cluster_centers_.flatten())\n",
    "\n",
    "# Map cluster numbers to efficiency labels\n",
    "efficiency_labels = {cluster_order[0]: \"Low\", cluster_order[1]: \"Medium\", cluster_order[2]: \"High\"}\n",
    "df[\"click_efficiency\"] = df[\"click_efficiency_cluster\"].map(efficiency_labels)\n",
    "\n",
    "# Drop the temporary cluster column\n",
    "df.drop(columns=[\"click_efficiency_cluster\"], inplace=True)\n",
    "\n",
    "# Step 6: Save the Updated Dataset\n",
    "updated_file_path = r\"C:\\Users\\samhe\\OneDrive\\Documents\\AI Project 3 - Customer Behavior\\click_behavior_analysis_kmeans.csv\"\n",
    "df.to_csv(updated_file_path, index=False)\n",
    "\n",
    "print(f\"✅ Updated dataset saved as: {updated_file_path}\")\n",
    "print(df[\"click_efficiency\"].value_counts())  # Show distribution of Low, Medium, High"
   ]
  },
  {
   "cell_type": "code",
   "execution_count": null,
   "id": "fe7b7cd2-ed18-4a4b-badf-7f5e986f05e2",
   "metadata": {},
   "outputs": [],
   "source": []
  }
 ],
 "metadata": {
  "kernelspec": {
   "display_name": "Python 3 (ipykernel)",
   "language": "python",
   "name": "python3"
  },
  "language_info": {
   "codemirror_mode": {
    "name": "ipython",
    "version": 3
   },
   "file_extension": ".py",
   "mimetype": "text/x-python",
   "name": "python",
   "nbconvert_exporter": "python",
   "pygments_lexer": "ipython3",
   "version": "3.11.7"
  }
 },
 "nbformat": 4,
 "nbformat_minor": 5
}
